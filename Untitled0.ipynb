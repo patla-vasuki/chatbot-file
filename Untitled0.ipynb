{
  "nbformat": 4,
  "nbformat_minor": 0,
  "metadata": {
    "colab": {
      "name": "Untitled0.ipynb",
      "provenance": [],
      "collapsed_sections": [],
      "authorship_tag": "ABX9TyOe1PKT10zOhmW5v38y1zV3",
      "include_colab_link": true
    },
    "kernelspec": {
      "name": "python3",
      "display_name": "Python 3"
    },
    "language_info": {
      "name": "python"
    }
  },
  "cells": [
    {
      "cell_type": "markdown",
      "metadata": {
        "id": "view-in-github",
        "colab_type": "text"
      },
      "source": [
        "<a href=\"https://colab.research.google.com/github/patla-vasuki/chatbot-file/blob/main/Untitled0.ipynb\" target=\"_parent\"><img src=\"https://colab.research.google.com/assets/colab-badge.svg\" alt=\"Open In Colab\"/></a>"
      ]
    },
    {
      "cell_type": "code",
      "metadata": {
        "id": "i9Z44fdo92b-"
      },
      "source": [
        "#description: This is a 'smart' chat bot program"
      ],
      "execution_count": null,
      "outputs": []
    },
    {
      "cell_type": "code",
      "metadata": {
        "colab": {
          "base_uri": "https://localhost:8080/"
        },
        "id": "fwk4ALl4-zIj",
        "outputId": "41c57f7f-2fc0-4571-946c-ab0835c975b2"
      },
      "source": [
        "pip install nltk\n"
      ],
      "execution_count": null,
      "outputs": [
        {
          "output_type": "stream",
          "text": [
            "Requirement already satisfied: nltk in /usr/local/lib/python3.7/dist-packages (3.2.5)\n",
            "Requirement already satisfied: six in /usr/local/lib/python3.7/dist-packages (from nltk) (1.15.0)\n"
          ],
          "name": "stdout"
        }
      ]
    },
    {
      "cell_type": "code",
      "metadata": {
        "colab": {
          "base_uri": "https://localhost:8080/"
        },
        "id": "p_XDZ17k_Ilg",
        "outputId": "e0b4a704-690b-4253-992a-f1a734b6d88e"
      },
      "source": [
        "pip install newspaper3k"
      ],
      "execution_count": null,
      "outputs": [
        {
          "output_type": "stream",
          "text": [
            "Collecting newspaper3k\n",
            "\u001b[?25l  Downloading https://files.pythonhosted.org/packages/d7/b9/51afecb35bb61b188a4b44868001de348a0e8134b4dfa00ffc191567c4b9/newspaper3k-0.2.8-py3-none-any.whl (211kB)\n",
            "\u001b[K     |████████████████████████████████| 215kB 3.9MB/s \n",
            "\u001b[?25hCollecting feedfinder2>=0.0.4\n",
            "  Downloading https://files.pythonhosted.org/packages/35/82/1251fefec3bb4b03fd966c7e7f7a41c9fc2bb00d823a34c13f847fd61406/feedfinder2-0.0.4.tar.gz\n",
            "Collecting tldextract>=2.0.1\n",
            "\u001b[?25l  Downloading https://files.pythonhosted.org/packages/7e/62/b6acd3129c5615b9860e670df07fd55b76175b63e6b7f68282c7cad38e9e/tldextract-3.1.0-py2.py3-none-any.whl (87kB)\n",
            "\u001b[K     |████████████████████████████████| 92kB 4.5MB/s \n",
            "\u001b[?25hRequirement already satisfied: python-dateutil>=2.5.3 in /usr/local/lib/python3.7/dist-packages (from newspaper3k) (2.8.1)\n",
            "Requirement already satisfied: beautifulsoup4>=4.4.1 in /usr/local/lib/python3.7/dist-packages (from newspaper3k) (4.6.3)\n",
            "Requirement already satisfied: Pillow>=3.3.0 in /usr/local/lib/python3.7/dist-packages (from newspaper3k) (7.1.2)\n",
            "Requirement already satisfied: PyYAML>=3.11 in /usr/local/lib/python3.7/dist-packages (from newspaper3k) (3.13)\n",
            "Collecting jieba3k>=0.35.1\n",
            "\u001b[?25l  Downloading https://files.pythonhosted.org/packages/a9/cb/2c8332bcdc14d33b0bedd18ae0a4981a069c3513e445120da3c3f23a8aaa/jieba3k-0.35.1.zip (7.4MB)\n",
            "\u001b[K     |████████████████████████████████| 7.4MB 9.0MB/s \n",
            "\u001b[?25hCollecting tinysegmenter==0.3\n",
            "  Downloading https://files.pythonhosted.org/packages/17/82/86982e4b6d16e4febc79c2a1d68ee3b707e8a020c5d2bc4af8052d0f136a/tinysegmenter-0.3.tar.gz\n",
            "Requirement already satisfied: lxml>=3.6.0 in /usr/local/lib/python3.7/dist-packages (from newspaper3k) (4.2.6)\n",
            "Requirement already satisfied: requests>=2.10.0 in /usr/local/lib/python3.7/dist-packages (from newspaper3k) (2.23.0)\n",
            "Collecting feedparser>=5.2.1\n",
            "\u001b[?25l  Downloading https://files.pythonhosted.org/packages/1c/21/faf1bac028662cc8adb2b5ef7a6f3999a765baa2835331df365289b0ca56/feedparser-6.0.2-py3-none-any.whl (80kB)\n",
            "\u001b[K     |████████████████████████████████| 81kB 6.9MB/s \n",
            "\u001b[?25hCollecting cssselect>=0.9.2\n",
            "  Downloading https://files.pythonhosted.org/packages/3b/d4/3b5c17f00cce85b9a1e6f91096e1cc8e8ede2e1be8e96b87ce1ed09e92c5/cssselect-1.1.0-py2.py3-none-any.whl\n",
            "Requirement already satisfied: nltk>=3.2.1 in /usr/local/lib/python3.7/dist-packages (from newspaper3k) (3.2.5)\n",
            "Requirement already satisfied: six in /usr/local/lib/python3.7/dist-packages (from feedfinder2>=0.0.4->newspaper3k) (1.15.0)\n",
            "Collecting requests-file>=1.4\n",
            "  Downloading https://files.pythonhosted.org/packages/77/86/cdb5e8eaed90796aa83a6d9f75cfbd37af553c47a291cd47bc410ef9bdb2/requests_file-1.5.1-py2.py3-none-any.whl\n",
            "Requirement already satisfied: idna in /usr/local/lib/python3.7/dist-packages (from tldextract>=2.0.1->newspaper3k) (2.10)\n",
            "Requirement already satisfied: filelock>=3.0.8 in /usr/local/lib/python3.7/dist-packages (from tldextract>=2.0.1->newspaper3k) (3.0.12)\n",
            "Requirement already satisfied: certifi>=2017.4.17 in /usr/local/lib/python3.7/dist-packages (from requests>=2.10.0->newspaper3k) (2020.12.5)\n",
            "Requirement already satisfied: chardet<4,>=3.0.2 in /usr/local/lib/python3.7/dist-packages (from requests>=2.10.0->newspaper3k) (3.0.4)\n",
            "Requirement already satisfied: urllib3!=1.25.0,!=1.25.1,<1.26,>=1.21.1 in /usr/local/lib/python3.7/dist-packages (from requests>=2.10.0->newspaper3k) (1.24.3)\n",
            "Collecting sgmllib3k\n",
            "  Downloading https://files.pythonhosted.org/packages/9e/bd/3704a8c3e0942d711c1299ebf7b9091930adae6675d7c8f476a7ce48653c/sgmllib3k-1.0.0.tar.gz\n",
            "Building wheels for collected packages: feedfinder2, jieba3k, tinysegmenter, sgmllib3k\n",
            "  Building wheel for feedfinder2 (setup.py) ... \u001b[?25l\u001b[?25hdone\n",
            "  Created wheel for feedfinder2: filename=feedfinder2-0.0.4-cp37-none-any.whl size=3358 sha256=87ecb91c999946553acf33f7c8218dbd6e6093b924d09238a894a00174389a23\n",
            "  Stored in directory: /root/.cache/pip/wheels/de/03/ca/778e3a7a627e3d98836cc890e7cb40c7575424cfd3340f40ed\n",
            "  Building wheel for jieba3k (setup.py) ... \u001b[?25l\u001b[?25hdone\n",
            "  Created wheel for jieba3k: filename=jieba3k-0.35.1-cp37-none-any.whl size=7398406 sha256=95804fe72d55a8bf9f65a4fabd93f4fd732308dc55b2731ec604085df5dcc608\n",
            "  Stored in directory: /root/.cache/pip/wheels/83/15/9c/a3f1f67e7f7181170ad37d32e503c35da20627c013f438ed34\n",
            "  Building wheel for tinysegmenter (setup.py) ... \u001b[?25l\u001b[?25hdone\n",
            "  Created wheel for tinysegmenter: filename=tinysegmenter-0.3-cp37-none-any.whl size=13538 sha256=db773f1741b6ebf61ec89d2c38442a7fab87818f787ee6206d67230296c611d8\n",
            "  Stored in directory: /root/.cache/pip/wheels/81/2b/43/a02ede72324dd40cdd7ca53aad718c7710628e91b8b0dc0f02\n",
            "  Building wheel for sgmllib3k (setup.py) ... \u001b[?25l\u001b[?25hdone\n",
            "  Created wheel for sgmllib3k: filename=sgmllib3k-1.0.0-cp37-none-any.whl size=6067 sha256=89b191e8a0e8eb369942bfd7d74a322c0b1232e57c08958ce2f0384bf4d1de8b\n",
            "  Stored in directory: /root/.cache/pip/wheels/f1/80/5a/444ba08a550cdd241bd9baf8bae44be750efe370adb944506a\n",
            "Successfully built feedfinder2 jieba3k tinysegmenter sgmllib3k\n",
            "Installing collected packages: feedfinder2, requests-file, tldextract, jieba3k, tinysegmenter, sgmllib3k, feedparser, cssselect, newspaper3k\n",
            "Successfully installed cssselect-1.1.0 feedfinder2-0.0.4 feedparser-6.0.2 jieba3k-0.35.1 newspaper3k-0.2.8 requests-file-1.5.1 sgmllib3k-1.0.0 tinysegmenter-0.3 tldextract-3.1.0\n"
          ],
          "name": "stdout"
        }
      ]
    },
    {
      "cell_type": "code",
      "metadata": {
        "id": "_xN4Wap5_YwZ"
      },
      "source": [
        "#import the libraries\n",
        "from newspaper import  Article\n",
        "import random\n",
        "import string\n",
        "import nltk \n",
        "from sklearn.feature_extraction.text import CountVectorizer\n",
        "from sklearn.metrics.pairwise import cosine_similarity\n",
        "import numpy as np\n",
        "import warnings\n",
        "warnings.filterwarnings('ignore')"
      ],
      "execution_count": null,
      "outputs": []
    },
    {
      "cell_type": "code",
      "metadata": {
        "colab": {
          "base_uri": "https://localhost:8080/"
        },
        "id": "m4ZlwFxVAyV3",
        "outputId": "82a728b9-2e37-41de-f93f-d798a7ebb1bc"
      },
      "source": [
        "#download the punkt package\n",
        "nltk.download('punkt',quiet=True)\n"
      ],
      "execution_count": null,
      "outputs": [
        {
          "output_type": "execute_result",
          "data": {
            "text/plain": [
              "True"
            ]
          },
          "metadata": {
            "tags": []
          },
          "execution_count": 6
        }
      ]
    },
    {
      "cell_type": "code",
      "metadata": {
        "id": "xxasYGFgGKw-"
      },
      "source": [
        "#Get the string\n",
        "article = Article('https://www.logon.media/en/node/561?gclid=CjwKCAjwqIiFBhAHEiwANg9sziQkj2gWYWpNvx4p_HLTYVLTdOWoXgpx1kJ9sN6WfCx6RUM658bBUBoCgroQAvD_BwE')\n",
        "article.download()\n",
        "article.parse()\n",
        "article.nlp()\n",
        "corpus = article.text"
      ],
      "execution_count": null,
      "outputs": []
    },
    {
      "cell_type": "code",
      "metadata": {
        "colab": {
          "base_uri": "https://localhost:8080/"
        },
        "id": "3_ncaT6KLe3v",
        "outputId": "3b8a3fe9-d670-4c0d-9c91-27a65fcd5e44"
      },
      "source": [
        "#Print the article text\n",
        "print(corpus)"
      ],
      "execution_count": null,
      "outputs": [
        {
          "output_type": "stream",
          "text": [
            "Saying that meditation is in fashion today is something of a euphemism. In the West, meditation was first adopted by people seeking spirituality, through Zen Buddhism for instance, and it was then popularized in different forms. The success of this practice is undeniably linked to the tangible benefits it brings to those who meditate. For example, the foundation of the famous American director David Lynch has been fostering through the world for decades the benefits of Transcendental Meditation to those exposed to severe stress. This TM, which was introduced to the world by the Indian spiritual master Maharishi Mahesh Yogi, has been taught to war veterans, incarcerated people, women suffering from domestic violence and homeless people. This method also allows students to overcome the stress of exams, and it helps calm attention deficit disorders and hyperactivity among children and teenagers.\n",
            "\n",
            "In France, it is not an oriental guru but media-friendly psychiatrist Christophe André who is among the best-sellers on meditation. He facilitates full consciousness meditation groups at the Sainte-Anne hospital in Paris to help his patients go through their pain and regain appetite for life.\n",
            "\n",
            "Yet the virtues of meditation go beyond the personal and professional spheres - they now even catch the attention of the political world. Last December, the governor of the State of Guerrero, Mexico, a region bruised by the violence of bloody narco-traffickers, has called the Indian master Sri Sri Ravi Shankar to broadcast his breathing and meditation method that allows the body to secrete more serotonin, the hormone of well-being. (350 million persons have already followed his program across the globe). A month earlier, the same spiritual leader managed to convince the negotiators of the Revolutionary Armed Forces of Colombia, engaged in a peace process with the government, to learn how to meditate (cf Le Monde, in an article published on 8th December 2016).\n",
            "\n",
            "Many practices are gathered under the word “meditation”. They seem to have in common the need to self-reflect, the need for a presence of the self. Why do I meditate? Who is meditating within me? What is the object, the focal point, the centre of my meditation? To what do I connect while meditating? What are the effects of my meditation inside and outside of me? We do not want to list here all meditation techniques, classifying them according to those five questions. Every person practicing meditation can observe him or her self to try and answer personally.\n",
            "\n",
            "We propose here a point of view on meditation coming from a conception of the world that takes into account the triple dimension of the human being – Spirit, Soul and Body – as apprehended by the Indian, Chinese, Egyptian, Semitic, Greek, Roman, Sufi, Celtic civilizations and many others. Christianity has also shared this anthropologic vision for many centuries as illustrates this text from Ephrem the Syrian, an oriental Christian from the 4th century:\n",
            "\n",
            "Because the soul is precious, even more than the body,\n",
            "\n",
            "And precious is the spirit, even more than the soul,\n",
            "\n",
            "And the divinity, more hidden than the spirit.\n",
            "\n",
            "The beauty of the soul, the body will wear\n",
            "\n",
            "When the end will come.\n",
            "\n",
            "The soul will wear the beauty of the spirit,\n",
            "\n",
            "The spirit will wear on its own face\n",
            "\n",
            "The divine Majesty.\n",
            "\n",
            "The body to the rank of the soul will be elevated,\n",
            "\n",
            "The soul to the rank of the spirit\n",
            "\n",
            "The spirit to the height where is Majesty.\n",
            "\n",
            "This conception of the human as a threefold being disappeared from our western civilization in the 12th century during an ecclesiastic council of the Church of Rome. It has progressively been replaced by another concept that is still our reference point: that we are each a being provided with a physical body reality, as well as a soul, which is now limited to the role of a psychic apparatus. The third reality, the Spirit dimension, has thus been confiscated, progressively erased from the memory of humanity. This spiritual principal that the individual carries in his or her deepest self as a seed of transformation and renewal is called in some traditions “ the Rose of the Heart”. It dwells at the crossing of our horizontal reality and our vertical aspirations. All spiritual schools of good faith, from Plato to the Rosycross of the 17th century, are entirely devoted to enabling this forgotten reality to arise in man’s consciousness. It is the beginning and the end of their meditation, to rebuild the Man of the origin according to the Spirit, the living Soul and the Body.\n",
            "\n",
            "The structure of this threefold Man destined for renewal can be compared to that of a three storey space rocket, with the Spirit at its summit, and at it’s base, the heaviest structure standing on the ground, the Body. The lighter intermediary dimension is the Soul. The three floors are not separated: they communicate with each other and the connecting factor is consciousness. There is thus a state of consciousness for each of these three dimensions: first, our spatiotemporal consciousness, a sensorial one that we know very well; second, the consciousness of the Soul; and then, that of the Soul-Spirit. To each of these dimensions corresponds a particular world, a field of consciousness. Meditation, when practiced in this conception of Man, means tearing oneself away every day from earthly gravity. The energy necessary for this elevation is not generated by mental quieting exercises or isolation from the racket of this world. The energy that propels the densest structure is buried in the innermost spiritual principle, the Rose of the Heart. Let us here compare the ancient precept of the alchemists “One can only make gold with gold” to that of the Rosycross’s “Spiritual meditation only comes from the spiritual”. This is the mystery of the alpha and the omega, the beginning and the end. It thus appears that meditation is a daily orientation on our center of gravity, on what anyone can identify in the self as belonging to the absolute, the Rose in the heart.\n",
            "\n",
            "But this meditation movement is not easy because our being is seldom calm. As soon as we wake up, we are overwhelmed by our thoughts, our daily planning to accomplish, impressions from the night, diverse feelings and thousands of opportunities to forget to be the solar being that we bear. Facing numerous invitations to distraction, we need to be an active observer, always more conscious at each moment of our internal processes, conscious of arising agitation, spoken words, feelings passing through our being, choices we make, actions that we undertake. This is the field in which we begin our meditation. The more we become conscious of this field, the more it can return to a form of calm, harmony and serenity.\n",
            "\n",
            "Each dimension of the being is connected to a sphere of life, a specific field. When, from a profound desire, our consciousness turns towards the Spirit in us, it thus connects to the energetic field of the Spirit. It is a bit like taking a cable car every day towards the top of a mountain. To reach the cable car, you begin in the valley and start moving. A desire to elevate yourself and a will to act are therefore the basis of such a meditation. Little by little, we discover easily that we are not the goal of this elevation process. Our I-consciousness must place itself at the service of the absolute, the Other in ourselves.\n",
            "\n",
            "Once the connection is established, we rise in the cable car, meaning that we enter the intermediary vehicle, the Soul, and wear it’s consciousness. The rest of the ascent does not belong to us anymore. But at the end the meditation, we benefit from the fruits of this inner journey: the Peace, the Light and the Force of the world of the Soul-Spirit. We return to the valley, the sensorial world, with this treasure, to accomplish our duties and tasks on the horizontal and vertical levels. In this perspective, meditation is not a separate activity in our week’s plan, but a commitment to every moment. Meditation is no longer an end in itself, but a tool. It is the most efficient way to renew our consciousness. Our I-consciousness initiates the act of meditation. Then, when the link with our focal point is established, the spatiotemporal consciousness contacts the sphere of the Rose, meaning the field of consciousness of the eternal Soul. From that moment, we are no longer Ms or Mr So-and-so, but we perceive the world with the consciousness of the Soul. This consciousness has qualities, like the absence of violence and criticism, or universal love. It also possesses skills such as spiritual intuition or the ability to see the unity of things and events.\n",
            "\n",
            "The eternal Soul, as mediator between the Spiritual principal and its means of manifestation, receives impulses from the Spirit and translates them into images and impressions, to which the I-consciousness can connect. The state of meditation is therefore an exploration of the relationship between the consciousness of the self and that of the “non self”, of the Other in us. At that moment, rather than being the meditator, we become the object of meditation of the celestial being, the divine twin/companion that looks us straight in the eye.\n",
            "\n",
            "Meditation is a deep alchemical work happening in the whole being. It is a powerful process of self-knowledge that causes sublime elevations, but it can also take us deep into the abyss of the subconscious, as the Light of the Soul-Spirit unmasks our shadows. Our meditation brings multiple fruits: inner illumination comes, along with true physiological transformations generated by the interaction between the three states of consciousness. After some time, the link between the three dimensions of the being is strengthened. When a man or a woman undertakes this work of reinstatement of the “Spirit, Soul and Body” celestial entity, the benefits of spiritual meditation go far beyond their personal sphere, because the threefold Man of the Origin, the Microcosmic-Man, is connected to the Great Universe, the Macrocosm. It is like harvesting the purest eternal snow from the summits to bring to humanity at the foot of the mountain. When the Solar Being regains its place in the divine plan, the whole living realm – the mineral, plant, animal, and human kingdoms – benefit from this offering of Light ethers.\n"
          ],
          "name": "stdout"
        }
      ]
    },
    {
      "cell_type": "code",
      "metadata": {
        "id": "bnmAXhWgKi4-"
      },
      "source": [
        "#Tokenziation\n",
        "text = corpus\n",
        "sentence_list = nltk.sent_tokenize(text) #A list of sentences\n"
      ],
      "execution_count": null,
      "outputs": []
    },
    {
      "cell_type": "code",
      "metadata": {
        "colab": {
          "base_uri": "https://localhost:8080/"
        },
        "id": "jUWklFbr_USQ",
        "outputId": "6f3d4636-5395-4370-bad9-c166a583e19c"
      },
      "source": [
        "#Print the list of sentences\n",
        "print(sentence_list)"
      ],
      "execution_count": null,
      "outputs": [
        {
          "output_type": "stream",
          "text": [
            "['Saying that meditation is in fashion today is something of a euphemism.', 'In the West, meditation was first adopted by people seeking spirituality, through Zen Buddhism for instance, and it was then popularized in different forms.', 'The success of this practice is undeniably linked to the tangible benefits it brings to those who meditate.', 'For example, the foundation of the famous American director David Lynch has been fostering through the world for decades the benefits of Transcendental Meditation to those exposed to severe stress.', 'This TM, which was introduced to the world by the Indian spiritual master Maharishi Mahesh Yogi, has been taught to war veterans, incarcerated people, women suffering from domestic violence and homeless people.', 'This method also allows students to overcome the stress of exams, and it helps calm attention deficit disorders and hyperactivity among children and teenagers.', 'In France, it is not an oriental guru but media-friendly psychiatrist Christophe André who is among the best-sellers on meditation.', 'He facilitates full consciousness meditation groups at the Sainte-Anne hospital in Paris to help his patients go through their pain and regain appetite for life.', 'Yet the virtues of meditation go beyond the personal and professional spheres - they now even catch the attention of the political world.', 'Last December, the governor of the State of Guerrero, Mexico, a region bruised by the violence of bloody narco-traffickers, has called the Indian master Sri Sri Ravi Shankar to broadcast his breathing and meditation method that allows the body to secrete more serotonin, the hormone of well-being.', '(350 million persons have already followed his program across the globe).', 'A month earlier, the same spiritual leader managed to convince the negotiators of the Revolutionary Armed Forces of Colombia, engaged in a peace process with the government, to learn how to meditate (cf Le Monde, in an article published on 8th December 2016).', 'Many practices are gathered under the word “meditation”.', 'They seem to have in common the need to self-reflect, the need for a presence of the self.', 'Why do I meditate?', 'Who is meditating within me?', 'What is the object, the focal point, the centre of my meditation?', 'To what do I connect while meditating?', 'What are the effects of my meditation inside and outside of me?', 'We do not want to list here all meditation techniques, classifying them according to those five questions.', 'Every person practicing meditation can observe him or her self to try and answer personally.', 'We propose here a point of view on meditation coming from a conception of the world that takes into account the triple dimension of the human being – Spirit, Soul and Body – as apprehended by the Indian, Chinese, Egyptian, Semitic, Greek, Roman, Sufi, Celtic civilizations and many others.', 'Christianity has also shared this anthropologic vision for many centuries as illustrates this text from Ephrem the Syrian, an oriental Christian from the 4th century:\\n\\nBecause the soul is precious, even more than the body,\\n\\nAnd precious is the spirit, even more than the soul,\\n\\nAnd the divinity, more hidden than the spirit.', 'The beauty of the soul, the body will wear\\n\\nWhen the end will come.', 'The soul will wear the beauty of the spirit,\\n\\nThe spirit will wear on its own face\\n\\nThe divine Majesty.', 'The body to the rank of the soul will be elevated,\\n\\nThe soul to the rank of the spirit\\n\\nThe spirit to the height where is Majesty.', 'This conception of the human as a threefold being disappeared from our western civilization in the 12th century during an ecclesiastic council of the Church of Rome.', 'It has progressively been replaced by another concept that is still our reference point: that we are each a being provided with a physical body reality, as well as a soul, which is now limited to the role of a psychic apparatus.', 'The third reality, the Spirit dimension, has thus been confiscated, progressively erased from the memory of humanity.', 'This spiritual principal that the individual carries in his or her deepest self as a seed of transformation and renewal is called in some traditions “ the Rose of the Heart”.', 'It dwells at the crossing of our horizontal reality and our vertical aspirations.', 'All spiritual schools of good faith, from Plato to the Rosycross of the 17th century, are entirely devoted to enabling this forgotten reality to arise in man’s consciousness.', 'It is the beginning and the end of their meditation, to rebuild the Man of the origin according to the Spirit, the living Soul and the Body.', 'The structure of this threefold Man destined for renewal can be compared to that of a three storey space rocket, with the Spirit at its summit, and at it’s base, the heaviest structure standing on the ground, the Body.', 'The lighter intermediary dimension is the Soul.', 'The three floors are not separated: they communicate with each other and the connecting factor is consciousness.', 'There is thus a state of consciousness for each of these three dimensions: first, our spatiotemporal consciousness, a sensorial one that we know very well; second, the consciousness of the Soul; and then, that of the Soul-Spirit.', 'To each of these dimensions corresponds a particular world, a field of consciousness.', 'Meditation, when practiced in this conception of Man, means tearing oneself away every day from earthly gravity.', 'The energy necessary for this elevation is not generated by mental quieting exercises or isolation from the racket of this world.', 'The energy that propels the densest structure is buried in the innermost spiritual principle, the Rose of the Heart.', 'Let us here compare the ancient precept of the alchemists “One can only make gold with gold” to that of the Rosycross’s “Spiritual meditation only comes from the spiritual”.', 'This is the mystery of the alpha and the omega, the beginning and the end.', 'It thus appears that meditation is a daily orientation on our center of gravity, on what anyone can identify in the self as belonging to the absolute, the Rose in the heart.', 'But this meditation movement is not easy because our being is seldom calm.', 'As soon as we wake up, we are overwhelmed by our thoughts, our daily planning to accomplish, impressions from the night, diverse feelings and thousands of opportunities to forget to be the solar being that we bear.', 'Facing numerous invitations to distraction, we need to be an active observer, always more conscious at each moment of our internal processes, conscious of arising agitation, spoken words, feelings passing through our being, choices we make, actions that we undertake.', 'This is the field in which we begin our meditation.', 'The more we become conscious of this field, the more it can return to a form of calm, harmony and serenity.', 'Each dimension of the being is connected to a sphere of life, a specific field.', 'When, from a profound desire, our consciousness turns towards the Spirit in us, it thus connects to the energetic field of the Spirit.', 'It is a bit like taking a cable car every day towards the top of a mountain.', 'To reach the cable car, you begin in the valley and start moving.', 'A desire to elevate yourself and a will to act are therefore the basis of such a meditation.', 'Little by little, we discover easily that we are not the goal of this elevation process.', 'Our I-consciousness must place itself at the service of the absolute, the Other in ourselves.', 'Once the connection is established, we rise in the cable car, meaning that we enter the intermediary vehicle, the Soul, and wear it’s consciousness.', 'The rest of the ascent does not belong to us anymore.', 'But at the end the meditation, we benefit from the fruits of this inner journey: the Peace, the Light and the Force of the world of the Soul-Spirit.', 'We return to the valley, the sensorial world, with this treasure, to accomplish our duties and tasks on the horizontal and vertical levels.', 'In this perspective, meditation is not a separate activity in our week’s plan, but a commitment to every moment.', 'Meditation is no longer an end in itself, but a tool.', 'It is the most efficient way to renew our consciousness.', 'Our I-consciousness initiates the act of meditation.', 'Then, when the link with our focal point is established, the spatiotemporal consciousness contacts the sphere of the Rose, meaning the field of consciousness of the eternal Soul.', 'From that moment, we are no longer Ms or Mr So-and-so, but we perceive the world with the consciousness of the Soul.', 'This consciousness has qualities, like the absence of violence and criticism, or universal love.', 'It also possesses skills such as spiritual intuition or the ability to see the unity of things and events.', 'The eternal Soul, as mediator between the Spiritual principal and its means of manifestation, receives impulses from the Spirit and translates them into images and impressions, to which the I-consciousness can connect.', 'The state of meditation is therefore an exploration of the relationship between the consciousness of the self and that of the “non self”, of the Other in us.', 'At that moment, rather than being the meditator, we become the object of meditation of the celestial being, the divine twin/companion that looks us straight in the eye.', 'Meditation is a deep alchemical work happening in the whole being.', 'It is a powerful process of self-knowledge that causes sublime elevations, but it can also take us deep into the abyss of the subconscious, as the Light of the Soul-Spirit unmasks our shadows.', 'Our meditation brings multiple fruits: inner illumination comes, along with true physiological transformations generated by the interaction between the three states of consciousness.', 'After some time, the link between the three dimensions of the being is strengthened.', 'When a man or a woman undertakes this work of reinstatement of the “Spirit, Soul and Body” celestial entity, the benefits of spiritual meditation go far beyond their personal sphere, because the threefold Man of the Origin, the Microcosmic-Man, is connected to the Great Universe, the Macrocosm.', 'It is like harvesting the purest eternal snow from the summits to bring to humanity at the foot of the mountain.', 'When the Solar Being regains its place in the divine plan, the whole living realm – the mineral, plant, animal, and human kingdoms – benefit from this offering of Light ethers.']\n"
          ],
          "name": "stdout"
        }
      ]
    },
    {
      "cell_type": "code",
      "metadata": {
        "id": "oAXIys7wNwOF"
      },
      "source": [
        "# A function to return a rando greeting response to a users greetings\n",
        "def greeting_response(text):\n",
        "  text = text.lower()\n",
        "\n",
        "  #Bots greetings response\n",
        "  bot_greetings = ['howdy','hi','hey','hello','hola']\n",
        "  #users greeting\n",
        "  user_greetings = ['hi','hey','hello','hola','greetings', 'wassup']\n",
        "\n",
        "\n",
        "  for word in text.split():\n",
        "    if word in user_greetings:\n",
        "      return random.choice(bot_greetings)\n"
      ],
      "execution_count": null,
      "outputs": []
    },
    {
      "cell_type": "code",
      "metadata": {
        "id": "1m5x43IqRM0B"
      },
      "source": [
        "def index_sort(list_var):\n",
        "  length = len(list_var)\n",
        "  list_index = list(range(0, length))\n",
        "\n",
        "  x = list_var\n",
        "  for i in range(length):\n",
        "    for j in range(length):\n",
        "      if x[list_index[i]] > x [list_index[j]]:\n",
        "        #swap \n",
        "        temp = list_index[i]\n",
        "        list_index[i]=list_index[j]\n",
        "        list_index[j]=temp\n",
        "\n",
        "\n",
        "  return list_index     "
      ],
      "execution_count": null,
      "outputs": []
    },
    {
      "cell_type": "code",
      "metadata": {
        "id": "UlHAepaAPksi"
      },
      "source": [
        "#create the bots response\n",
        "def bot_response(user_input):\n",
        "  user_input = user_input.lower()\n",
        "  sentence_list.append(user_input)\n",
        "  bot_response = ''\n",
        "  cm = CountVectorizer().fit_transform(sentence_list)\n",
        "  similarity_scores = cosine_similarity(cm[-1],cm)\n",
        "  similarity_scores_list = similarity_scores.flatten()\n",
        "  index = index_sort(similarity_scores_list)\n",
        "  index = index[1:]\n",
        "  response_flag = 0\n",
        "\n",
        "  j = 0\n",
        "  for i in range(len(index)):\n",
        "    if similarity_scores_list[index[i]] > 0.0:\n",
        "      bot_response  = bot_response+''+sentence_list[index[i]]\n",
        "      response_flag = 1\n",
        "      j = j+1\n",
        "    if j > 2:\n",
        "        break\n",
        "\n",
        "  if response_flag == 0:\n",
        "    bot_response = bot_response+''+\"I Apologize, I dont Understand.\"\n",
        "\n",
        "  sentence_list.remove(user_input)\n",
        "\n",
        "  return bot_response\n"
      ],
      "execution_count": null,
      "outputs": []
    },
    {
      "cell_type": "code",
      "metadata": {
        "colab": {
          "base_uri": "https://localhost:8080/"
        },
        "id": "4QSrEJqyZrfV",
        "outputId": "0c942586-5fa8-4040-8cf0-47cf594a7c35"
      },
      "source": [
        "#start the chat\n",
        "print('doc bot: I am GuruDoc bot or GuruDoc bot for short.I will answer your queries about Meditation and Fitness.If you want to exit, Type Bye.')\n",
        "\n",
        "exit_list = ['exit','see you later','bye','quit','break']\n",
        "while(True):\n",
        "  user_input = input()\n",
        "  if user_input.lower() in exit_list:\n",
        "    print('doc bot: chat with you later!')\n",
        "    break\n",
        "  else:\n",
        "    if greeting_response(user_input) != None:\n",
        "      print('Doc Bot:'+greeting_response(user_input))\n",
        "    else:\n",
        "        print('Doc Bot:'+bot_response(user_input))\n"
      ],
      "execution_count": null,
      "outputs": [
        {
          "output_type": "stream",
          "text": [
            "doc bot: I am GuruDoc bot or GuruDoc bot for short.I will answer your queries about Meditation and Fitness.If you want to exit, Type Bye.\n",
            "hi\n",
            "Doc Bot:hello\n",
            "hdjk\n",
            "Doc Bot:I Apologize, I dont Understand.\n",
            "what is meditation ?\n",
            "Doc Bot:Saying that meditation is in fashion today is something of a euphemism.But this meditation movement is not easy because our being is seldom calm.What is the object, the focal point, the centre of my meditation?\n",
            "exit\n",
            "doc bot: chat with you later!\n"
          ],
          "name": "stdout"
        }
      ]
    }
  ]
}